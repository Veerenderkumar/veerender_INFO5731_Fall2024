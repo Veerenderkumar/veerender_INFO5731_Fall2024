{
  "cells": [
    {
      "cell_type": "markdown",
      "metadata": {
        "id": "view-in-github",
        "colab_type": "text"
      },
      "source": [
        "<a href=\"https://colab.research.google.com/github/Veerenderkumar/veerender_INFO5731_Fall2024/blob/main/kumar_veerender_Assignment_1.ipynb\" target=\"_parent\"><img src=\"https://colab.research.google.com/assets/colab-badge.svg\" alt=\"Open In Colab\"/></a>"
      ]
    },
    {
      "cell_type": "markdown",
      "metadata": {
        "id": "Ryk8D1Q4Wsrp"
      },
      "source": [
        "# **INFO5731 Assignment One**"
      ]
    },
    {
      "cell_type": "markdown",
      "source": [
        "This assignment includes range of programming tasks and data analysis exercises, aiming to enhance your Python skills and proficiency in string manipulation, numerical computations, and data science. Follow the instructions carefully and design well-structured Python programs to address each question.\n",
        "\n",
        "Late Submission will have a penalty of 10% reduction for each day after the deadline."
      ],
      "metadata": {
        "id": "qcP6re2g5A5r"
      }
    },
    {
      "cell_type": "markdown",
      "metadata": {
        "id": "JkzR8cFAyGik"
      },
      "source": [
        "# Question 1 (10 points).\n",
        "\n",
        "The formula that describes the volume V of a hemisphere with radius r is the following:\n",
        "\n",
        "$ V=\\frac{2}{3}\\ast\\ \\pi\\ast\\ r^3 $\n",
        "\n",
        "Write a program to calculate the value of V when r is in the range of even numbers from 1-20. Output the result in the following format:\n",
        "\n",
        "\tr\tV\n",
        "\t2\t…\n",
        "\t4\t…\n",
        "\t6\t…\n",
        "\t.\n",
        "\t.\n",
        "\t.\n",
        "\t20\t…\n"
      ]
    },
    {
      "cell_type": "code",
      "execution_count": 2,
      "metadata": {
        "id": "jDyTKYs-yGit",
        "colab": {
          "base_uri": "https://localhost:8080/"
        },
        "outputId": "23044923-a84b-4e35-e9ac-8e57e558ff3d"
      },
      "outputs": [
        {
          "output_type": "stream",
          "name": "stdout",
          "text": [
            "2 16.7552\n",
            "4 134.0413\n",
            "6 452.3893\n",
            "8 1072.3303\n",
            "10 2094.3951\n",
            "12 3619.1147\n",
            "14 5747.0202\n",
            "16 8578.6423\n",
            "18 12214.5122\n",
            "20 16755.1608\n"
          ]
        }
      ],
      "source": [
        "import math\n",
        "r = [2, 4, 6, 8, 10, 12, 14, 16, 18, 20]\n",
        "for i in r:\n",
        "    v = (2/3) * math.pi * i**3\n",
        "    v = round(v, 4)\n",
        "    print(f\"{i} {v}\")\n",
        "\n",
        "\n"
      ]
    },
    {
      "cell_type": "markdown",
      "metadata": {
        "id": "90_NR8c5XGWc"
      },
      "source": [
        "# Question 2 (20 points)\n",
        "\n",
        "(a) Write a Python program to generate a sequence of 12 random numbers falling within the range of 50 to 150.\n",
        "\n",
        "(b) Arrange the generated numbers in ascending order. Display the sorted list.\n",
        "\n",
        "(c) Extend the program to arrange the numbers in descending order as well. Present the sorted list accordingly.\n",
        "\n",
        "(d) Compute and output the average of the entire group of generated numbers.\n",
        "\n",
        "(e) Enhance the program to calculate and display the average of the first 6 numbers from both the ascending and descending sorted lists."
      ]
    },
    {
      "cell_type": "code",
      "execution_count": 5,
      "metadata": {
        "id": "5QX6bJjGWXY9",
        "colab": {
          "base_uri": "https://localhost:8080/"
        },
        "outputId": "8703f4f7-9a37-430e-b028-1422bc61bbef"
      },
      "outputs": [
        {
          "output_type": "stream",
          "name": "stdout",
          "text": [
            "12 random numbers in a list between 50 and 150:\n",
            " [144, 60, 63, 75, 148, 71, 69, 107, 145, 82, 143, 135]\n",
            "\n",
            "Sorted list in ascending order:\n",
            " [60, 63, 69, 71, 75, 82, 107, 135, 143, 144, 145, 148]\n",
            "\n",
            "Sorted list in descending order:\n",
            " [148, 145, 144, 143, 135, 107, 82, 75, 71, 69, 63, 60]\n",
            "\n",
            "Average of the list:\n",
            " 103.5\n",
            "\n",
            "Average of the first 6 numbers in ascending order:\n",
            " 70.0\n",
            "Average of the first 6 numbers in descending order:\n",
            " 137.0\n"
          ]
        }
      ],
      "source": [
        "import random\n",
        "numbers = random.sample(range(50, 150), 12)\n",
        "print('12 random numbers in a list between 50 and 150:\\n', numbers)\n",
        "def compute_average(num_list):\n",
        "    return sum(num_list) / len(num_list)\n",
        "ascending_numbers = sorted(numbers)\n",
        "print('\\nSorted list in ascending order:\\n', ascending_numbers)\n",
        "descending_numbers = sorted(numbers, reverse=True)\n",
        "print('\\nSorted list in descending order:\\n', descending_numbers)\n",
        "average_all = compute_average(numbers)\n",
        "print('\\nAverage of the list:\\n', round(average_all, 2))\n",
        "average_first_6_ascending = compute_average(ascending_numbers[:6])\n",
        "average_first_6_descending = compute_average(descending_numbers[:6])\n",
        "print('\\nAverage of the first 6 numbers in ascending order:\\n', round(average_first_6_ascending, 2))\n",
        "print('Average of the first 6 numbers in descending order:\\n', round(average_first_6_descending, 2))\n",
        "\n",
        "\n"
      ]
    },
    {
      "cell_type": "markdown",
      "metadata": {
        "id": "1F_PZdH9Sh49"
      },
      "source": [
        "# Question 3 (20 points).\n",
        "\n",
        "Create a Python program that encompasses various string manipulation task:\n",
        "\n",
        "(a) Prompt the user to input two sentences.\n",
        "\n",
        "(b) Transform each sentence into a list, where each element corresponds to a word in the sentence. For example, if the sentences are \"Hello, how are you doing today?\" and \"This is an example sentence for the program!\"\n",
        "\n",
        "The program should output:\n",
        "['Hello', ',', 'how', 'are', 'you', 'doing', 'today', '?', 'This', 'is', 'an', 'example', 'sentence', 'for', 'the', 'program', '!']\n",
        "\n",
        "(c) Compare the two sentences. Print out a list of words that occur in both sentences.\n",
        "\n",
        "(d) Remove any punctuation from the sentence and print the sanitized sentences. It should remove at least the following characters, but it can remove more: period(“.”), comma (“,”), semicolon (“;”), and colon (“:”).\n",
        "\n",
        "(e) Count the number of vowels in each of the sentences. Print out each vowel and the occurrences  in the each of the two sentences separately, such as:\n",
        "\n",
        "Sentence1: a:2, e:2, i:0, etc.\n",
        "Sentence2: a:1, e:2, i:2, etc.\n",
        "\n",
        "Design a well-structured Python program to execute these tasks efficiently."
      ]
    },
    {
      "cell_type": "code",
      "execution_count": 6,
      "metadata": {
        "id": "Y0oOSlsOS0cq",
        "colab": {
          "base_uri": "https://localhost:8080/"
        },
        "outputId": "7f03aea9-14a5-4350-9733-00be9c726f01"
      },
      "outputs": [
        {
          "output_type": "stream",
          "name": "stdout",
          "text": [
            "Enter the first sentence: Hello how are you doing today\n",
            "Enter the second sentence: what are you doing\n",
            "\n",
            "List of words (including punctuation) from the first sentence:\n",
            " ['Hello', 'how', 'are', 'you', 'doing', 'today']\n",
            "\n",
            "List of words (including punctuation) from the second sentence:\n",
            " ['what', 'are', 'you', 'doing']\n",
            "\n",
            "Words that occur in both sentences are:\n",
            " ['doing', 'are', 'you']\n",
            "\n",
            "First sentence without punctuation:\n",
            " Hello how are you doing today\n",
            "\n",
            "Second sentence without punctuation:\n",
            " what are you doing\n",
            "\n",
            "Vowel occurrences in the first sentence:\n",
            " a:2, e:2, i:1, o:5, u:1\n",
            "Vowel occurrences in the second sentence:\n",
            " a:2, e:1, i:1, o:2, u:1\n"
          ]
        }
      ],
      "source": [
        "import string\n",
        "from collections import Counter\n",
        "sentence1 = input(\"Enter the first sentence: \")\n",
        "sentence2 = input(\"Enter the second sentence: \")\n",
        "def tokenize(sentence):\n",
        "    return sentence.split()\n",
        "list1 = tokenize(sentence1)\n",
        "list2 = tokenize(sentence2)\n",
        "print('\\nList of words (including punctuation) from the first sentence:\\n', list1)\n",
        "print('\\nList of words (including punctuation) from the second sentence:\\n', list2)\n",
        "common_words = list(set(list1) & set(list2))\n",
        "print(\"\\nWords that occur in both sentences are:\\n\", common_words)\n",
        "def remove_punctuation(sentence):\n",
        "    return sentence.translate(str.maketrans('', '', string.punctuation))\n",
        "sanitized_sentence1 = remove_punctuation(sentence1)\n",
        "sanitized_sentence2 = remove_punctuation(sentence2)\n",
        "print('\\nFirst sentence without punctuation:\\n', sanitized_sentence1)\n",
        "print('\\nSecond sentence without punctuation:\\n', sanitized_sentence2)\n",
        "\n",
        "def count_vowels(sentence):\n",
        "    vowels = 'aeiou'\n",
        "    vowel_count = Counter(char for char in sentence.lower() if char in vowels)\n",
        "    return vowel_count\n",
        "vowel_count1 = count_vowels(sanitized_sentence1)\n",
        "vowel_count2 = count_vowels(sanitized_sentence2)\n",
        "\n",
        "def format_vowel_count(vowel_count):\n",
        "    return ', '.join(f\"{vowel}:{count}\" for vowel, count in sorted(vowel_count.items()))\n",
        "print(\"\\nVowel occurrences in the first sentence:\\n\", format_vowel_count(vowel_count1))\n",
        "print(\"Vowel occurrences in the second sentence:\\n\", format_vowel_count(vowel_count2))\n",
        "\n",
        "\n"
      ]
    },
    {
      "cell_type": "markdown",
      "source": [
        "# Question 4 (20 Points)"
      ],
      "metadata": {
        "id": "OP4-5qxAtInv"
      }
    },
    {
      "cell_type": "markdown",
      "source": [
        "Design and implement a simple command-line calculator program. The program should handle both integers and floating-point numbers.\n",
        "\n",
        "(a) Write program that takes a mathematical expression as input and evaluates it. The program should support addition, subtraction, multiplication, and division.\n",
        "\n",
        "(b) Extend the calculator to handle parentheses in mathematical expressions. Implement the necessary logic to evaluate expressions with nested parentheses.\n",
        "\n",
        "(c) Enhance your calculator to include additional mathematical operations such as exponentiation, square root, and modulus.\n",
        "\n",
        "(d) Implement error handling in the calculator program. Handle cases such as division by zero and invalid input expressions. Provide meaningful error messages.\n",
        "\n",
        "(e) Implement a command to exit the calculator."
      ],
      "metadata": {
        "id": "uzN4_hDptK9U"
      }
    },
    {
      "cell_type": "code",
      "source": [
        "import math\n",
        "\n",
        "def evaluate_expression(expression):\n",
        "    try:\n",
        "        result = eval(expression, {\"__builtins__\": None}, math.__dict__)\n",
        "        return result\n",
        "    except ZeroDivisionError:\n",
        "        return \"Error: Division by zero is not allowed.\"\n",
        "    except Exception as e:\n",
        "        return f\"Error: {str(e)}\"\n",
        "def main():\n",
        "    print(\"Simple Command-Line Calculator\")\n",
        "    print(\"Supported operations: +, -, *, /, ** (exponentiation), sqrt (square root), % (modulus)\")\n",
        "    print(\"Type 'exit' to quit.\")\n",
        "    while True:\n",
        "        expression = input(\"\\nEnter a mathematical expression: \")\n",
        "        if expression.lower() == 'exit':\n",
        "            print(\"Exiting the calculator. Goodbye!\")\n",
        "            break\n",
        "\n",
        "        expression = expression.replace(\"sqrt\", \"math.sqrt\")\n",
        "\n",
        "        result = evaluate_expression(expression)\n",
        "        print(\"Result:\", result)\n",
        "\n",
        "if __name__ == \"__main__\":\n",
        "    main()\n"
      ],
      "metadata": {
        "id": "8nQnVxjJuYtu",
        "colab": {
          "base_uri": "https://localhost:8080/"
        },
        "outputId": "61852ac1-cb18-4372-c7a1-b146f85d3f89"
      },
      "execution_count": 9,
      "outputs": [
        {
          "output_type": "stream",
          "name": "stdout",
          "text": [
            "Simple Command-Line Calculator\n",
            "Supported operations: +, -, *, /, ** (exponentiation), sqrt (square root), % (modulus)\n",
            "Type 'exit' to quit.\n",
            "\n",
            "Enter a mathematical expression: 4+6\n",
            "Result: 10\n",
            "\n",
            "Enter a mathematical expression: 20-10\n",
            "Result: 10\n",
            "\n",
            "Enter a mathematical expression: 5*2\n",
            "Result: 10\n",
            "\n",
            "Enter a mathematical expression: 2/5\n",
            "Result: 0.4\n",
            "\n",
            "Enter a mathematical expression: exit\n",
            "Exiting the calculator. Goodbye!\n"
          ]
        }
      ]
    },
    {
      "cell_type": "markdown",
      "metadata": {
        "id": "z3tBE7E-Xn5X"
      },
      "source": [
        "# Question 5 (30 points).\n",
        "\n",
        "In the field of Data Science, data is often formatted as a comma-delimited (CSV) file, where each line in a file corresponds to a field's value. Refer to Chapter 9 (p. 106) for more information on comma-delimited files.\n",
        "\n",
        "To answer this question, you will need to download the file [Assignment1_denton_housing.csv](https://raw.githubusercontent.com/unt-iialab/info5731-spring2022/main/assignments/Assignment1_denton_housing.csv) included with this assignment. The file contains statistics about housing in the city of Denton from 2008 to 2014. Write a program to implement the following questions.\n",
        "\n",
        "(a) (5 pts) Calculate the difference in the number of Occupied Housing Units from year to year and print it. The difference must be calculated for the consecutive years such as 2008-2009, 2009-2010 etc. Finally, print the values in the ascending order.\n",
        "\n",
        "(b) (5 pts) For all the years, calculate the percentage of housing units which are vacant an occupied. Print the results in the following format:\n",
        "\n",
        "Year Vacant Housing Units Occupied Housing Units\n",
        "\n",
        "    2008  30%   70%                          \n",
        "\t2009 ----- -----\n",
        "\t2010 ----- -----\n",
        "    2011 ----- -----\n",
        "\t2012 ----- -----\n",
        "    2013 ----- -----\n",
        "\t2014 ----- -----\n",
        "  \n",
        "  \n",
        "\n",
        "(c) (10 pts) Calculate and print the valued and years in which the highest number of housing units were vacant and occupied. Print the results in the following format:  \n",
        "\n",
        "                              Year\tValue\n",
        "\tVacant Housing Units\t  -----   -----\n",
        "\tOccupied Housing Units\t-----   -----\n",
        "\n",
        "(d) (10 pts) Calculate the harmonic mean of the total housing units and print it out. You can find the information about harmonic mean here: https://ncalculators.com/statistics/harmonic-mean-calculator.htm"
      ]
    },
    {
      "cell_type": "code",
      "execution_count": 12,
      "metadata": {
        "id": "lqGYuHBhcsRH",
        "colab": {
          "base_uri": "https://localhost:8080/"
        },
        "outputId": "ef86e4a9-9d6d-452f-d9fb-d060daf3421d"
      },
      "outputs": [
        {
          "output_type": "stream",
          "name": "stdout",
          "text": [
            "    year  Difference\n",
            "20  2008         NaN\n",
            "17  2009       795.0\n",
            "14  2010      5091.0\n",
            "11  2011       303.0\n",
            "8   2012      1404.0\n",
            "5   2013      1565.0\n",
            "2   2014      2622.0 \n",
            "\n",
            "\n",
            "title_field Vacant Housing Units Occupied Housing Units\n",
            "year                                                   \n",
            "2008                      10.88%                 89.12%\n",
            "2009                       9.07%                 90.93%\n",
            "2010                       8.14%                 91.86%\n",
            "2011                       9.38%                 90.62%\n",
            "2012                       6.68%                 93.32%\n",
            "2013                        8.8%                  91.2%\n",
            "2014                       5.73%                 94.27% \n",
            "\n",
            "\n",
            "                          Year   Value\n",
            "Vacant Housing Units      2008   4483\n",
            "Occupied Housing Units    2014   46295\n",
            "\n",
            "The harmonic mean of total housing units is 44398.28543969185\n"
          ]
        }
      ],
      "source": [
        "import numpy as np\n",
        "import pandas as pd\n",
        "from scipy import stats\n",
        "df = pd.read_csv('/content/Assignment1_denton_housing (1).csv')\n",
        "df1 = df[df['title_field'] == 'Occupied Housing Units'].sort_values(by=['year'])\n",
        "df1['Difference'] = abs(df1['value'].diff())\n",
        "print(df1[['year', 'Difference']],'\\n\\n')\n",
        "df2 = df.pivot_table(index='year', columns='title_field', values='value', aggfunc='sum')\n",
        "df2['Vacant Housing Units'] = (df2['Vacant Housing Units'] / df2['Total Housing Units']) * 100\n",
        "df2['Occupied Housing Units'] = (df2['Occupied Housing Units'] / df2['Total Housing Units']) * 100\n",
        "df2['Vacant Housing Units'] = round(df2['Vacant Housing Units'], 2)\n",
        "df2['Occupied Housing Units'] = round(df2['Occupied Housing Units'], 2)\n",
        "df2['Vacant Housing Units'] = df2['Vacant Housing Units'].astype(str) + '%'\n",
        "df2['Occupied Housing Units'] = df2['Occupied Housing Units'].astype(str) + '%'\n",
        "print(df2[['Vacant Housing Units', 'Occupied Housing Units']], '\\n\\n')\n",
        "df3 = df.pivot_table(index='year', columns='title_field', values='value', aggfunc='max')\n",
        "df3 = df3.drop(['Median Gross Rent','Owner Occupied','Renter Occupied','Total Housing Units'], axis=1)\n",
        "vacant_max_year = df3['Vacant Housing Units'].idxmax()\n",
        "vacant_max_value = df3['Vacant Housing Units'].max()\n",
        "occupied_max_year = df3['Occupied Housing Units'].idxmax()\n",
        "occupied_max_value = df3['Occupied Housing Units'].max()\n",
        "print(f\"\"\"                          Year   Value\n",
        "Vacant Housing Units      {vacant_max_year}   {vacant_max_value}\n",
        "Occupied Housing Units    {occupied_max_year}   {occupied_max_value}\n",
        "\"\"\")\n",
        "df4 = df[df['title_field'] == 'Total Housing Units']\n",
        "print('The harmonic mean of total housing units is', stats.hmean(df4['value']))\n",
        "\n",
        "\n"
      ]
    },
    {
      "cell_type": "markdown",
      "source": [
        "# Mandatory Question\n",
        "\n",
        "Provide your thoughts on the assignment. What did you find challenging, and what aspects did you enjoy? Your opinion on the provided time to complete the assignment. Share any suggestions for improvement. Your feedback will be valuable for enhancing the learning experience."
      ],
      "metadata": {
        "id": "q8BFCvWp32cf"
      }
    },
    {
      "cell_type": "code",
      "source": [
        "\n",
        "The assignment literally tested what i have learned in the first three classes. I found it challenging to complete the fifth question which\n",
        "took a lot of time but eventually got the correct output. I dont have any particular feedback or complaints about this class"
      ],
      "metadata": {
        "id": "_e557s2w4BpK",
        "colab": {
          "base_uri": "https://localhost:8080/",
          "height": 124
        },
        "outputId": "ffaa96f2-effd-44b7-a7a2-c9e9f3a8f493"
      },
      "execution_count": 16,
      "outputs": [
        {
          "output_type": "error",
          "ename": "SyntaxError",
          "evalue": "invalid syntax (<ipython-input-16-549c0b6d5ee3>, line 1)",
          "traceback": [
            "\u001b[0;36m  File \u001b[0;32m\"<ipython-input-16-549c0b6d5ee3>\"\u001b[0;36m, line \u001b[0;32m1\u001b[0m\n\u001b[0;31m    The assignment literally tested what i have learned in the first three classes. I found it challenging to complete the fifth question which\u001b[0m\n\u001b[0m        ^\u001b[0m\n\u001b[0;31mSyntaxError\u001b[0m\u001b[0;31m:\u001b[0m invalid syntax\n"
          ]
        }
      ]
    }
  ],
  "metadata": {
    "colab": {
      "provenance": [],
      "include_colab_link": true
    },
    "kernelspec": {
      "display_name": "Python 3 (ipykernel)",
      "language": "python",
      "name": "python3"
    },
    "language_info": {
      "codemirror_mode": {
        "name": "ipython",
        "version": 3
      },
      "file_extension": ".py",
      "mimetype": "text/x-python",
      "name": "python",
      "nbconvert_exporter": "python",
      "pygments_lexer": "ipython3",
      "version": "3.9.12"
    }
  },
  "nbformat": 4,
  "nbformat_minor": 0
}