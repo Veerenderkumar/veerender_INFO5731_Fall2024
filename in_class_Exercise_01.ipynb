{
  "cells": [
    {
      "cell_type": "markdown",
      "metadata": {
        "id": "view-in-github",
        "colab_type": "text"
      },
      "source": [
        "<a href=\"https://colab.research.google.com/github/Veerenderkumar/veerender_INFO5731_Fall2024/blob/main/in_class_Exercise_01.ipynb\" target=\"_parent\"><img src=\"https://colab.research.google.com/assets/colab-badge.svg\" alt=\"Open In Colab\"/></a>"
      ]
    },
    {
      "cell_type": "markdown",
      "metadata": {
        "id": "DymRJbxDBCnf"
      },
      "source": [
        "# **INFO5731 Exercise 1**\n",
        "\n",
        "This exercise covers a variety of fundamental concepts in Python and is designed to help students improve their coding skills and problem-solving abilities.\n",
        "\n",
        "**Expectations**:\n",
        "*   Students are expected to complete the exercise during lecture period to meet the active participation criteria of the course.\n",
        "*   Use the provided .*ipynb* document to write your code & respond to the questions. Avoid generating a new file.\n",
        "*   Write complete answers and run all the cells before submission.\n",
        "*   Make sure the submission is \"clean\"; *i.e.*, no unnecessary code cells.\n",
        "*   Once finished, allow shared rights from top right corner (*see Canvas for details*).\n",
        "\n",
        "**Total points**: 40\n",
        "\n",
        "**Deadline**: This in-class exercise is due at the end of the day tomorrow, at 11:59 PM.\n",
        "\n",
        "**Late submissions cannot be considered, and no requests will be answered. Manage your time accordingly.**\n"
      ]
    },
    {
      "cell_type": "markdown",
      "source": [
        "## Question 1\n",
        "Write a Python program that  prompts the user to input the length and width of a rectangle, and then calculates and displays the area of the rectangle."
      ],
      "metadata": {
        "id": "FBKvD6O_TY6e"
      }
    },
    {
      "cell_type": "code",
      "source": [
        "length=float(input(10))\n",
        "width=float(input(5))\n",
        "a=length*width\n",
        "print(area)"
      ],
      "metadata": {
        "id": "cikVKDXdTbzE"
      },
      "execution_count": null,
      "outputs": []
    },
    {
      "cell_type": "markdown",
      "source": [
        "## Question 2\n",
        "Create a Python program that interactively takes two numerical inputs from the user and swaps their values without utilizing an extra variable."
      ],
      "metadata": {
        "id": "E9RqrlwdTfvl"
      }
    },
    {
      "cell_type": "code",
      "source": [
        "a= float(input())\n",
        "b= float(input())\n",
        "print(\"Before:\")\n",
        "print(\"First number:\", a)\n",
        "print(\"Second number:\", b)\n",
        "\n",
        "a,b=b,a\n",
        "print(\"after:\")\n",
        "print(\"First number:\", a)\n",
        "print(\"Second number:\", b)\n",
        "\n"
      ],
      "metadata": {
        "id": "4XvRknixTh1g",
        "colab": {
          "base_uri": "https://localhost:8080/"
        },
        "outputId": "f34bd48f-de52-44f3-e43a-873889458a44"
      },
      "execution_count": null,
      "outputs": [
        {
          "output_type": "stream",
          "name": "stdout",
          "text": [
            "5\n",
            "7\n",
            "Before:\n",
            "First number: 5.0\n",
            "Second number: 7.0\n",
            "after:\n",
            "First number: 7.0\n",
            "Second number: 5.0\n"
          ]
        }
      ]
    },
    {
      "cell_type": "markdown",
      "metadata": {
        "id": "03jb4GZsBkBS"
      },
      "source": [
        "## Question 3\n",
        "Write a Python script to determine and print the length of a user-input string."
      ]
    },
    {
      "cell_type": "code",
      "execution_count": null,
      "metadata": {
        "id": "YaGLbSHHB8Ej",
        "colab": {
          "base_uri": "https://localhost:8080/"
        },
        "outputId": "2955b6b5-536c-4a9e-91aa-c134892e3548"
      },
      "outputs": [
        {
          "output_type": "stream",
          "name": "stdout",
          "text": [
            "hvsajhhva\n",
            "9\n"
          ]
        }
      ],
      "source": [
        "l=input()\n",
        "m=len(l)\n",
        "print(m)\n"
      ]
    },
    {
      "cell_type": "markdown",
      "metadata": {
        "id": "jJDe71iLB616"
      },
      "source": [
        "## Question 4\n",
        "Construct a Python program that counts and displays the occurrences of each character in a given string.\n",
        "\n",
        "Sample String: 'openai.ai',\n",
        "\n",
        "Expected Result: {'a': 2, 'i': 2, '.': 1, 'o': 1, 'p': 1, 'e': 1, 'n': 1}"
      ]
    },
    {
      "cell_type": "code",
      "execution_count": null,
      "metadata": {
        "id": "MtKskTzbCLaU",
        "colab": {
          "base_uri": "https://localhost:8080/"
        },
        "outputId": "57956d4b-651d-4f58-8422-f3ac9c3c8533"
      },
      "outputs": [
        {
          "output_type": "stream",
          "name": "stdout",
          "text": [
            "jjjkkavhjvahjjfdjhbf\n",
            "{'j': 7, 'k': 2, 'a': 2, 'v': 2, 'h': 3, 'f': 2, 'd': 1, 'b': 1}\n"
          ]
        }
      ],
      "source": [
        "m='openai.ai\n",
        "\n",
        "c={}\n",
        "l=0\n",
        "for i in m:\n",
        "  if  i in c:\n",
        "    c[i]+=1\n",
        "  else:\n",
        "    c[i]=1\n",
        "print(c)\n"
      ]
    },
    {
      "cell_type": "markdown",
      "metadata": {
        "id": "55W9AMdXCSpV"
      },
      "source": [
        "## Question 5\n",
        "Design a Python code to calculate the sum of all elements in a user-provided list."
      ]
    },
    {
      "cell_type": "code",
      "execution_count": null,
      "metadata": {
        "id": "I57NXsauCec2",
        "colab": {
          "base_uri": "https://localhost:8080/"
        },
        "outputId": "87702c58-8c97-4abe-ad1c-972e82a07e1e"
      },
      "outputs": [
        {
          "output_type": "stream",
          "name": "stdout",
          "text": [
            "Enter numbers separated by spaces: 3 8 9 0 4 6\n",
            "The sum of all elements in the list is: 30.0\n"
          ]
        }
      ],
      "source": [
        "\n",
        "\n",
        "user_input = input(\"Enter numbers separated by spaces: \")\n",
        "numbers_str = user_input.split()\n",
        "numbers = [float(num) for num in numbers_str]\n",
        "total_sum = sum(numbers)\n",
        "print(\"The sum of all elements in the list is:\", total_sum)"
      ]
    },
    {
      "cell_type": "markdown",
      "metadata": {
        "id": "4ulBZ6yhCi9F"
      },
      "source": [
        "## Question 6\n",
        "Write a Python program that modifies a given string by replacing all occurrences of its first character with '$', excluding the first character itself.\n",
        "\n",
        "\n",
        "Sample String : 'restart‘\n",
        "Expected Result : 'resta\\$t'"
      ]
    },
    {
      "cell_type": "code",
      "execution_count": null,
      "metadata": {
        "id": "Fj0XhwbBCw2o",
        "colab": {
          "base_uri": "https://localhost:8080/"
        },
        "outputId": "5d5e49ec-1dfd-4e4b-cab0-5178fbfcde20"
      },
      "outputs": [
        {
          "output_type": "stream",
          "name": "stdout",
          "text": [
            "resta$t\n"
          ]
        }
      ],
      "source": [
        "\n",
        "def modify_string(input_string):\n",
        "    if not input_string:\n",
        "        return input_string\n",
        "\n",
        "    first_char = input_string[0]\n",
        "    modified_string = first_char + input_string[1:].replace(first_char, '$')\n",
        "\n",
        "    return modified_string\n",
        "\n",
        "\n",
        "sample_string = 'restart'\n",
        "result = modify_string(sample_string)\n",
        "print(result)\n",
        "\n"
      ]
    },
    {
      "cell_type": "markdown",
      "source": [
        "## Question 7\n",
        "Write a Python program using a while loop to compute the factorial of a user-supplied number."
      ],
      "metadata": {
        "id": "qVXA3q7ET5JI"
      }
    },
    {
      "cell_type": "code",
      "source": [
        "\n",
        "number = int(input(\"Enter a non-negative integer: \"))\n",
        "\n",
        "\n",
        "factorial = 1\n",
        "i = 1\n",
        "\n",
        "\n",
        "if number < 0:\n",
        "    print(\"Factorial is not defined for negative numbers.\")\n",
        "else:\n",
        "\n",
        "    while i <= number:\n",
        "        factorial *= i\n",
        "        i += 1\n",
        "\n",
        "\n",
        "    print(f\"The factorial of {number} is: {factorial}\")"
      ],
      "metadata": {
        "id": "Lbt7R6UkT7BA",
        "colab": {
          "base_uri": "https://localhost:8080/"
        },
        "outputId": "b3f89e25-f597-42b1-b047-4f7f0874db04"
      },
      "execution_count": null,
      "outputs": [
        {
          "output_type": "stream",
          "name": "stdout",
          "text": [
            "Enter a non-negative integer: 3\n",
            "The factorial of 3 is: 6\n"
          ]
        }
      ]
    },
    {
      "cell_type": "markdown",
      "source": [
        "## Question 8\n",
        "Create a program that accepts a list of numbers as input and outputs a new list containing only the even numbers."
      ],
      "metadata": {
        "id": "6YfbzXMNT--R"
      }
    },
    {
      "cell_type": "code",
      "source": [
        "\n",
        "user_input = input(\"Enter numbers separated by spaces: \")\n",
        "\n",
        "\n",
        "numbers_str = user_input.split()\n",
        "\n",
        "\n",
        "numbers = [int(num) for num in numbers_str]\n",
        "\n",
        "\n",
        "even_numbers = [num for num in numbers if num % 2 == 0]\n",
        "\n",
        "\n",
        "print(\"List of even numbers:\", even_numbers)"
      ],
      "metadata": {
        "id": "54q7wMQPUAKu",
        "colab": {
          "base_uri": "https://localhost:8080/"
        },
        "outputId": "8d86c4db-9f0e-4e4d-c481-be184c6d44f2"
      },
      "execution_count": null,
      "outputs": [
        {
          "output_type": "stream",
          "name": "stdout",
          "text": [
            "Enter numbers separated by spaces: 6\n",
            "List of even numbers: [6]\n"
          ]
        }
      ]
    },
    {
      "cell_type": "markdown",
      "metadata": {
        "id": "_bIP7s1MCzue"
      },
      "source": [
        "## Question 9\n",
        "Design a Python function to check if a number is prime.\n"
      ]
    },
    {
      "cell_type": "code",
      "execution_count": null,
      "metadata": {
        "id": "w79QilHXD3Mg",
        "colab": {
          "base_uri": "https://localhost:8080/"
        },
        "outputId": "ed196fc6-02f5-4934-e59c-d89e027ea67f"
      },
      "outputs": [
        {
          "output_type": "stream",
          "name": "stdout",
          "text": [
            "Enter a number to check if it's prime: 67\n",
            "67 is a prime number.\n"
          ]
        }
      ],
      "source": [
        "def is_prime(number):\n",
        "\n",
        "    if number <= 1:\n",
        "        return False\n",
        "\n",
        "    if number <= 3:\n",
        "        return True\n",
        "\n",
        "    if number % 2 == 0 or number % 3 == 0:\n",
        "        return False\n",
        "\n",
        "    i = 5\n",
        "    while i * i <= number:\n",
        "        if number % i == 0 or number % (i + 2) == 0:\n",
        "            return False\n",
        "        i += 6\n",
        "    return True\n",
        "\n",
        "\n",
        "user_input = int(input(\"Enter a number to check if it's prime: \"))\n",
        "if is_prime(user_input):\n",
        "    print(f\"{user_input} is a prime number.\")\n",
        "else:\n",
        "    print(f\"{user_input} is not a prime number.\")"
      ]
    },
    {
      "cell_type": "markdown",
      "metadata": {
        "id": "xCa2bK9aD4Q3"
      },
      "source": [
        "## Question 10\n",
        "Write a Python program to concatenate following dictionaries to create a new one.\n",
        "\n",
        "Sample Dictionary : dic1={1:10, 2:20}, dic2={3:30, 4:40}, dic3={5:50,6:60},\n",
        "\n",
        "Expected Result : {1: 10, 2: 20, 3: 30, 4: 40, 5: 50, 6: 60}\n"
      ]
    },
    {
      "cell_type": "code",
      "execution_count": null,
      "metadata": {
        "id": "_z4aLqAbEET1",
        "colab": {
          "base_uri": "https://localhost:8080/"
        },
        "outputId": "ddc2d455-df4e-468a-c9cd-020d3f39d300"
      },
      "outputs": [
        {
          "output_type": "stream",
          "name": "stdout",
          "text": [
            "Combined dictionary: {1: 10, 2: 20, 3: 30, 4: 40, 5: 50, 6: 60}\n"
          ]
        }
      ],
      "source": [
        "\n",
        "dic1 = {1: 10, 2: 20}\n",
        "dic2 = {3: 30, 4: 40}\n",
        "dic3 = {5: 50, 6: 60}\n",
        "\n",
        "\n",
        "combined_dic = {**dic1, **dic2, **dic3}\n",
        "\n",
        "\n",
        "print(\"Combined dictionary:\", combined_dic)\n"
      ]
    },
    {
      "cell_type": "markdown",
      "source": [
        "## Question 11\n",
        "Design a Python function that takes a tuple of integers as input and returns the largest and smallest elements."
      ],
      "metadata": {
        "id": "bkyZ2xSZUOst"
      }
    },
    {
      "cell_type": "code",
      "source": [
        "\n",
        "def find_largest_and_smallest(numbers):\n",
        "\n",
        "    if not numbers:\n",
        "        return None, None\n",
        "\n",
        "\n",
        "    largest = max(numbers)\n",
        "    smallest = min(numbers)\n",
        "\n",
        "    return largest, smallest\n",
        "\n",
        "\n",
        "input_tuple = (5, 1, 9, 3, 7)\n",
        "largest, smallest = find_largest_and_smallest(input_tuple)\n",
        "print(f\"Largest element: {largest}\")\n",
        "print(f\"Smallest element: {smallest}\")"
      ],
      "metadata": {
        "id": "3FdLRBKOUQEd",
        "colab": {
          "base_uri": "https://localhost:8080/"
        },
        "outputId": "d1f2faf9-7a7b-423f-e327-e6f8048de4e6"
      },
      "execution_count": null,
      "outputs": [
        {
          "output_type": "stream",
          "name": "stdout",
          "text": [
            "Largest element: 9\n",
            "Smallest element: 1\n"
          ]
        }
      ]
    },
    {
      "cell_type": "markdown",
      "source": [
        "## Question 12\n",
        "Write a Python program that counts the frequency of each character in a given string and stores it in a dictionary."
      ],
      "metadata": {
        "id": "O0TVi3gKUTpp"
      }
    },
    {
      "cell_type": "code",
      "source": [
        " def count_character_frequency(s):\n",
        "\n",
        "    frequency = {}\n",
        "\n",
        "\n",
        "    for char in s:\n",
        "\n",
        "        if char in frequency:\n",
        "            frequency[char] += 1\n",
        "        else:\n",
        "            frequency[char] = 1\n",
        "\n",
        "    return frequency\n",
        "\n",
        "\n",
        "input_string = \"hello world\"\n",
        "result = count_character_frequency(input_string)\n",
        "print(\"Character frequency:\", result)"
      ],
      "metadata": {
        "id": "lAtfSfZXUU-h",
        "colab": {
          "base_uri": "https://localhost:8080/"
        },
        "outputId": "43057dad-e604-42b8-f81e-a03d142b1126"
      },
      "execution_count": null,
      "outputs": [
        {
          "output_type": "stream",
          "name": "stdout",
          "text": [
            "Character frequency: {'h': 1, 'e': 1, 'l': 3, 'o': 2, ' ': 1, 'w': 1, 'r': 1, 'd': 1}\n"
          ]
        }
      ]
    },
    {
      "cell_type": "markdown",
      "metadata": {
        "id": "0v48Vqa7FrQh"
      },
      "source": [
        "## Question 13\n",
        "Implement a Python script to identify duplicate elements in a provided array of integers. Return -1 if there are no duplicates."
      ]
    },
    {
      "cell_type": "code",
      "execution_count": null,
      "metadata": {
        "id": "7WEmgq-DF2P1",
        "colab": {
          "base_uri": "https://localhost:8080/"
        },
        "outputId": "1dbd085d-abc5-47f5-cd6b-541d93da98f5"
      },
      "outputs": [
        {
          "output_type": "stream",
          "name": "stdout",
          "text": [
            "Duplicates: [2, 3]\n"
          ]
        }
      ],
      "source": [
        "\n",
        "\n",
        "def find_duplicates(arr):\n",
        "\n",
        "    seen = set()\n",
        "\n",
        "    duplicates = set()\n",
        "\n",
        "\n",
        "    for num in arr:\n",
        "        if num in seen:\n",
        "\n",
        "            duplicates.add(num)\n",
        "        else:\n",
        "\n",
        "            seen.add(num)\n",
        "\n",
        "\n",
        "    if duplicates:\n",
        "        return list(duplicates)\n",
        "    else:\n",
        "        return -1\n",
        "\n",
        "\n",
        "input_array = [1, 2, 3, 4, 2, 5, 6, 3]\n",
        "result = find_duplicates(input_array)\n",
        "print(\"Duplicates:\", result)"
      ]
    },
    {
      "cell_type": "markdown",
      "metadata": {
        "id": "vD5PYLMuGga_"
      },
      "source": [
        "## Question 14\n",
        "Write a Python script to find the common elements between two lists."
      ]
    },
    {
      "cell_type": "code",
      "execution_count": null,
      "metadata": {
        "id": "t0D5kdJUGjjw",
        "colab": {
          "base_uri": "https://localhost:8080/"
        },
        "outputId": "0a965b56-1baa-47e6-e653-d02abee74051"
      },
      "outputs": [
        {
          "output_type": "stream",
          "name": "stdout",
          "text": [
            "Common elements: [4, 5]\n"
          ]
        }
      ],
      "source": [
        "\n",
        "def find_common_elements(list1, list2):\n",
        "\n",
        "    set1 = set(list1)\n",
        "    set2 = set(list2)\n",
        "\n",
        "\n",
        "    common_elements = set1.intersection(set2)\n",
        "\n",
        "    return list(common_elements)\n",
        "\n",
        "list1 = [1, 2, 3, 4, 5]\n",
        "list2 = [4, 5, 6, 7, 8]\n",
        "result = find_common_elements(list1, list2)\n",
        "print(\"Common elements:\", result)\n"
      ]
    },
    {
      "cell_type": "markdown",
      "metadata": {
        "id": "uHkd-y5VhVWC"
      },
      "source": [
        "## Question 15\n",
        "Write a Python program to randomly divide the students in this class into maximum of eight groups for term projects, each group should have at least 4 students but no more than 6 students (including 6).\n",
        "\n",
        "Here is the students list:\n",
        "\n",
        "student_list_spring_2024=[rb0846,\n",
        "ac1964,\n",
        "hc0612,\n",
        "md0912,\n",
        "ad1198,\n",
        "md0894,\n",
        "md0825,\n",
        "vg0598,\n",
        "vg0433,\n",
        "mh1068,\n",
        "yj0173,\n",
        "pk0553,\n",
        "tk0411,\n",
        "srk0204,\n",
        "sk2922,\n",
        "sk2936,\n",
        "mk1302,\n",
        "mk1317,\n",
        "tk0412,\n",
        "vk0656,\n",
        "sm2985,\n",
        "mm2372,\n",
        "un0045,\n",
        "an0892,\n",
        "sn0913,\n",
        "gp0252,\n",
        "ap1484,\n",
        "mr1765,\n",
        "sr1385,\n",
        "sr1335,\n",
        "hs0665,\n",
        "ms2060,\n",
        "gt0217,\n",
        "nt0385,\n",
        "tv0186,\n",
        "sv1394,\n",
        "sv1752,\n",
        "sv1555,\n",
        "sy0594\n",
        "]\n"
      ]
    },
    {
      "cell_type": "code",
      "execution_count": null,
      "metadata": {
        "id": "3iGbmcOBhTwy",
        "colab": {
          "base_uri": "https://localhost:8080/"
        },
        "outputId": "cf7d62bf-b3e1-4827-9252-87e5d80b3344"
      },
      "outputs": [
        {
          "output_type": "stream",
          "name": "stdout",
          "text": [
            "Group 1: ['gp0252', 'vg0598', 'sv1752', 'vg0433', 'sn0913', 'sy0594']\n",
            "Group 2: ['sr1385', 'sv1394', 'sk2936', 'mm2372', 'md0912', 'srk0204']\n",
            "Group 3: ['hs0665', 'ap1484', 'sv1555', 'pk0553', 'md0825', 'rb0846']\n",
            "Group 4: ['un0045', 'ac1964', 'tv0186', 'ms2060', 'sr1335', 'mh1068']\n",
            "Group 5: ['tk0411', 'mk1317', 'gt0217', 'vk0656', 'hc0612', 'yj0173']\n",
            "Group 6: ['sk2922', 'mk1302', 'sm2985', 'md0894', 'an0892']\n",
            "Group 7: ['tk0412', 'ad1198', 'nt0385', 'mr1765']\n"
          ]
        }
      ],
      "source": [
        "import random\n",
        "\n",
        "import random\n",
        "\n",
        "def create_groups(student_list, max_groups=8, min_size=4, max_size=6):\n",
        "    random.shuffle(student_list)\n",
        "    groups = []\n",
        "\n",
        "    while student_list:\n",
        "        if len(student_list) > max_groups * max_size:\n",
        "            group_size = max_size\n",
        "        else:\n",
        "            group_size = min(max_size, len(student_list))\n",
        "\n",
        "        if len(student_list) - group_size < min_size and len(student_list) > min_size:\n",
        "            group_size = len(student_list) - min_size\n",
        "\n",
        "        group = student_list[:group_size]\n",
        "        groups.append(group)\n",
        "        student_list = student_list[group_size:]\n",
        "\n",
        "    if len(groups) > max_groups:\n",
        "        combined_groups = []\n",
        "        for i in range(0, len(groups), max_groups):\n",
        "            combined_groups.append([student for sublist in groups[i:i+max_groups] for student in sublist])\n",
        "        return combined_groups[:max_groups]\n",
        "\n",
        "    return groups\n",
        "\n",
        "student_list_spring_2024 = [\n",
        "    'rb0846', 'ac1964', 'hc0612', 'md0912', 'ad1198', 'md0894', 'md0825', 'vg0598',\n",
        "    'vg0433', 'mh1068', 'yj0173', 'pk0553', 'tk0411', 'srk0204', 'sk2922', 'sk2936',\n",
        "    'mk1302', 'mk1317', 'tk0412', 'vk0656', 'sm2985', 'mm2372', 'un0045', 'an0892',\n",
        "    'sn0913', 'gp0252', 'ap1484', 'mr1765', 'sr1385', 'sr1335', 'hs0665', 'ms2060',\n",
        "    'gt0217', 'nt0385', 'tv0186', 'sv1394', 'sv1752', 'sv1555', 'sy0594'\n",
        "]\n",
        "\n",
        "groups = create_groups(student_list_spring_2024)\n",
        "\n",
        "for idx, group in enumerate(groups, 1):\n",
        "    print(f\"Group {idx}: {group}\")\n"
      ]
    },
    {
      "cell_type": "markdown",
      "metadata": {
        "id": "fmZ9vX20Qs3d"
      },
      "source": [
        "## Question 16\n",
        "Create a program that takes a positive integer 'n' as input and prints the count of even numbers from 1 to 'n'. Optimize the loop using the continue statement."
      ]
    },
    {
      "cell_type": "code",
      "execution_count": null,
      "metadata": {
        "id": "W8Jw6sWMQs3d",
        "colab": {
          "base_uri": "https://localhost:8080/"
        },
        "outputId": "73ae69a4-d38b-413b-d812-446fb278d099"
      },
      "outputs": [
        {
          "output_type": "stream",
          "name": "stdout",
          "text": [
            "Enter a positive integer: 56\n",
            "The count of even numbers from 1 to 56 is: 28\n"
          ]
        }
      ],
      "source": [
        "\n",
        "def count_even_numbers(n):\n",
        "    count = 0\n",
        "    for i in range(1, n + 1):\n",
        "        if i % 2 != 0:\n",
        "            continue\n",
        "        count += 1\n",
        "    return count\n",
        "\n",
        "try:\n",
        "    n = int(input(\"Enter a positive integer: \"))\n",
        "    if n <= 0:\n",
        "        print(\"Please enter a positive integer.\")\n",
        "    else:\n",
        "        result = count_even_numbers(n)\n",
        "        print(f\"The count of even numbers from 1 to {n} is: {result}\")\n",
        "except ValueError:\n",
        "    print(\"Invalid input. Please enter a positive integer.\")\n"
      ]
    },
    {
      "cell_type": "markdown",
      "metadata": {
        "id": "hvq4APMhQs3d"
      },
      "source": [
        "## Question 17\n",
        "Develop a Python function called 'count_vowels' that takes a string as input and returns the count of vowels (both lowercase and uppercase) present in the string, ignoring spaces and non-alphabetic characters."
      ]
    },
    {
      "cell_type": "code",
      "execution_count": null,
      "metadata": {
        "id": "ZnoxhSglQs3d",
        "colab": {
          "base_uri": "https://localhost:8080/"
        },
        "outputId": "8d4bddca-9fd3-405d-f268-349c474dd725"
      },
      "outputs": [
        {
          "output_type": "stream",
          "name": "stdout",
          "text": [
            "Enter a string: hhvjsvkiio\n",
            "The count of vowels in the string is: 3\n"
          ]
        }
      ],
      "source": [
        "def count_vowels(s):\n",
        "    vowels = 'aeiouAEIOU'\n",
        "    count = 0\n",
        "    for char in s:\n",
        "        if char in vowels:\n",
        "            count += 1\n",
        "    return count\n",
        "input_string = input(\"Enter a string: \")\n",
        "result = count_vowels(input_string)\n",
        "print(f\"The count of vowels in the string is: {result}\")\n",
        "\n"
      ]
    },
    {
      "cell_type": "markdown",
      "source": [
        "## Question 18\n",
        "Create a custom exception named ValueTooSmallError in Python. Write a program that takes user input for an age, and if the entered age is less than 18, raise the ValueTooSmallError with an appropriate error message."
      ],
      "metadata": {
        "id": "55FWoSJPVVM6"
      }
    },
    {
      "cell_type": "code",
      "source": [
        "class ValueTooSmallError(Exception):\n",
        "    def __init__(self, message=\"The value is too small. Age must be 18 or older.\"):\n",
        "        self.message = message\n",
        "        super().__init__(self.message)\n",
        "\n",
        "def check_age(age):\n",
        "    if age < 18:\n",
        "        raise ValueTooSmallError\n",
        "try:\n",
        "    age = int(input(\"Enter your age: \"))\n",
        "    check_age(age)\n",
        "    print(\"Age is acceptable.\")\n",
        "except ValueError:\n",
        "    print(\"Invalid input. Please enter a valid integer.\")\n",
        "except ValueTooSmallError as e:\n",
        "    print(e)\n",
        "\n"
      ],
      "metadata": {
        "id": "hwtr1wZmVX5A",
        "colab": {
          "base_uri": "https://localhost:8080/"
        },
        "outputId": "719c9435-f7e4-4776-b73f-aa2dea24ebeb"
      },
      "execution_count": null,
      "outputs": [
        {
          "output_type": "stream",
          "name": "stdout",
          "text": [
            "Enter your age: 21\n",
            "Age is acceptable.\n"
          ]
        }
      ]
    },
    {
      "cell_type": "markdown",
      "source": [
        "## Question 19\n",
        "Develop a script that reverses a given string without using built-in reverse functions."
      ],
      "metadata": {
        "id": "Q9ecagcaVazW"
      }
    },
    {
      "cell_type": "code",
      "source": [
        "def reverse_string(s):\n",
        "    reversed_s = \"\"\n",
        "    for char in s:\n",
        "        reversed_s = char + reversed_s\n",
        "    return reversed_s\n",
        "\n",
        "input_string = input(\"Enter a string to reverse: \")\n",
        "reversed_string = reverse_string(input_string)\n",
        "print(\"Reversed string:\", reversed_string)\n"
      ],
      "metadata": {
        "id": "gycgckoAVZjR"
      },
      "execution_count": null,
      "outputs": []
    },
    {
      "cell_type": "markdown",
      "source": [
        "## Question 20\n",
        "Implement a Python script to generate a random password of a specified length."
      ],
      "metadata": {
        "id": "ZFG6RibifMLu"
      }
    },
    {
      "cell_type": "code",
      "source": [
        "\n",
        "import random\n",
        "import string\n",
        "def generate_password(length):\n",
        "characters = string.ascii_letters + string.digits + string.punctuation\n",
        "password = ''.join(random.choice(characters) for _ in range(length))\n",
        "return password\n",
        "try:\n",
        "    length = int(input(\"Enter the desired password length: \"))\n",
        "    if length < 1:\n",
        "        print(\"Password length must be at least 1.\")\n",
        "    else:\n",
        "       password = generate_password(length)\n",
        "        print(\"Generated password:\", password)\n",
        "except ValueError:\n",
        "    print(\"Invalid input. Please enter a positive integer.\")"
      ],
      "metadata": {
        "id": "BFVrkEi9fNiD",
        "colab": {
          "base_uri": "https://localhost:8080/"
        },
        "outputId": "afee037f-8f63-48c0-c748-610ac649fc04"
      },
      "execution_count": null,
      "outputs": [
        {
          "output_type": "stream",
          "name": "stdout",
          "text": [
            "Enter the desired password length: 8\n",
            "Generated password: 6>4hF.M/\n"
          ]
        }
      ]
    },
    {
      "cell_type": "markdown",
      "source": [
        "# Try these questions"
      ],
      "metadata": {
        "id": "6SmvS7nSfbj8"
      }
    },
    {
      "cell_type": "markdown",
      "source": [
        "(21) Define a base class called 'Vehicle' with attributes make and model. Create a derived class Car that inherits from Vehicle and has an additional attribute 'num_doors'. Demonstrate an example of creating an instance of the 'Car' class and accessing its attributes."
      ],
      "metadata": {
        "id": "cboAr5pEWUf5"
      }
    },
    {
      "cell_type": "code",
      "source": [
        "class Vehicle:\n",
        "    def __init__(self, make, model):\n",
        "        self.make = make\n",
        "        self.model = model\n",
        "\n",
        "    def display_info(self):\n",
        "        return f\"Make: {self.make}, Model: {self.model}\"\n",
        "\n",
        "class Car(Vehicle):\n",
        "    def __init__(self, make, model, num_doors):\n",
        "        super().__init__(make, model)\n",
        "        self.num_doors = num_doors\n",
        "\n",
        "    def display_info(self):\n",
        "        vehicle_info = super().display_info()\n",
        "        return f\"{vehicle_info}, Number of Doors: {self.num_doors}\"\n",
        "\n",
        "my_car = Car(make=\"Toyota\", model=\"Corolla\", num_doors=4)\n",
        "print(my_car.display_info())\n"
      ],
      "metadata": {
        "id": "phs9gciMWWAW",
        "colab": {
          "base_uri": "https://localhost:8080/"
        },
        "outputId": "8fdbf3a3-feb6-4c06-d6ad-e7fa7a913799"
      },
      "execution_count": null,
      "outputs": [
        {
          "output_type": "stream",
          "name": "stdout",
          "text": [
            "Make: Toyota, Model: Corolla, Number of Doors: 4\n"
          ]
        }
      ]
    },
    {
      "cell_type": "markdown",
      "source": [
        "(22) Create a class called 'Shape' with a method calculate_area(). Implement two derived classes 'Circle' and 'Rectangle' that inherit from Shape and override the calculate_area() method. Demonstrate polymorphism by creating instances of both derived classes and calling the calculate_area() method."
      ],
      "metadata": {
        "id": "J8HHefNtePwd"
      }
    },
    {
      "cell_type": "code",
      "source": [
        "import math\n",
        "\n",
        "\n",
        "class Shape:\n",
        "    def calculate_area(self):\n",
        "        raise NotImplementedError(\"Subclasses must implement this method\")\n",
        "\n",
        "\n",
        "class Circle(Shape):\n",
        "    def __init__(self, radius):\n",
        "        self.radius = radius\n",
        "\n",
        "    def calculate_area(self):\n",
        "        return math.pi * (self.radius ** 2)\n",
        "\n",
        "\n",
        "class Rectangle(Shape):\n",
        "    def __init__(self, width, height):\n",
        "        self.width = width\n",
        "        self.height = height\n",
        "\n",
        "    def calculate_area(self):\n",
        "        return self.width * self.height\n",
        "\n",
        "\n",
        "def print_area(shape: Shape):\n",
        "    print(f\"Area: {shape.calculate_area()}\")\n",
        "\n",
        "circle = Circle(radius=5)\n",
        "rectangle = Rectangle(width=4, height=6)\n",
        "print_area(circle)\n",
        "print_area(rectangle)\n"
      ],
      "metadata": {
        "id": "btnMmUZDeRhS",
        "colab": {
          "base_uri": "https://localhost:8080/"
        },
        "outputId": "57dd5a2e-2c25-4028-994c-d24739d098ab"
      },
      "execution_count": null,
      "outputs": [
        {
          "output_type": "stream",
          "name": "stdout",
          "text": [
            "Area: 78.53981633974483\n",
            "Area: 24\n"
          ]
        }
      ]
    },
    {
      "cell_type": "markdown",
      "source": [
        "(23) Write a Python program that prompts the user to enter two numbers and perform a division operation. Handle exceptions for both zero division and invalid input (non-numeric input). Display appropriate error messages for each type of exception and ensure the program does not crash due to these errors."
      ],
      "metadata": {
        "id": "z0oqEAlTeMUS"
      }
    },
    {
      "cell_type": "code",
      "source": [
        "\n",
        "def divide_numbers():\n",
        "    try:\n",
        "        num1 = float(input(\"Enter the first number: \"))\n",
        "        num2 = float(input(\"Enter the second number: \"))\n",
        "        result = num1 / num2\n",
        "        print(f\"The result of {num1} divided by {num2} is: {result}\")\n",
        "\n",
        "    except ZeroDivisionError:\n",
        "        print(\"Error: Division by zero is not allowed.\")\n",
        "    except ValueError:\n",
        "        print(\"Error: Invalid input. Please enter numeric values.\")\n",
        "    except Exception as e:\n",
        "      print(f\"An unexpected error occurred: {e}\")\n",
        "divide_numbers()"
      ],
      "metadata": {
        "id": "yjdc1zM1eMAs",
        "colab": {
          "base_uri": "https://localhost:8080/"
        },
        "outputId": "3a2abb80-9b8d-4cc4-a645-8553d7e89cda"
      },
      "execution_count": null,
      "outputs": [
        {
          "output_type": "stream",
          "name": "stdout",
          "text": [
            "Enter the first number: 78\n",
            "Enter the second number: 90\n",
            "The result of 78.0 divided by 90.0 is: 0.8666666666666667\n"
          ]
        }
      ]
    },
    {
      "cell_type": "markdown",
      "source": [
        "# Mandatory Question"
      ],
      "metadata": {
        "id": "sZOhks1dXWEe"
      }
    },
    {
      "cell_type": "markdown",
      "source": [
        "**Important:**\n",
        "Reflecting on the first three lectures and the exercises you've completed, please provide feedback on your learning experience. Share your thoughts on whether the material covered was clear, the exercises were helpful, and if you feel more confident in applying Python programming concepts. Additionally, mention any specific areas where you would like more clarification or topics you would like to explore further in future lectures. Your feedback is valuable in shaping the course for an effective learning journey."
      ],
      "metadata": {
        "id": "eqmHVEwaWhbV"
      }
    },
    {
      "cell_type": "code",
      "source": [
        "'''\n",
        "The material covered in the first three lectures was generally clear and well-structured. The lectures were paced appropriately, allowing me to absorb the foundational concepts of Python programming effectively. Key topics such as variables, data types, loops, and functions were explained with relevant examples that made it easier to grasp the concepts.\n",
        "'''\n"
      ],
      "metadata": {
        "id": "akAVJn9YBTQT"
      },
      "execution_count": null,
      "outputs": []
    }
  ],
  "metadata": {
    "colab": {
      "provenance": [],
      "collapsed_sections": [
        "FBKvD6O_TY6e",
        "E9RqrlwdTfvl",
        "03jb4GZsBkBS",
        "jJDe71iLB616",
        "55W9AMdXCSpV",
        "4ulBZ6yhCi9F",
        "6SmvS7nSfbj8",
        "sZOhks1dXWEe"
      ],
      "include_colab_link": true
    },
    "kernelspec": {
      "display_name": "Python 3 (ipykernel)",
      "language": "python",
      "name": "python3"
    },
    "language_info": {
      "codemirror_mode": {
        "name": "ipython",
        "version": 3
      },
      "file_extension": ".py",
      "mimetype": "text/x-python",
      "name": "python",
      "nbconvert_exporter": "python",
      "pygments_lexer": "ipython3",
      "version": "3.9.12"
    }
  },
  "nbformat": 4,
  "nbformat_minor": 0
}